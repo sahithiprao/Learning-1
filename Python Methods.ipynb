{
 "cells": [
  {
   "cell_type": "markdown",
   "id": "9fd28b79",
   "metadata": {},
   "source": [
    "Methods"
   ]
  },
  {
   "cell_type": "code",
   "execution_count": 1,
   "id": "7432e50e",
   "metadata": {},
   "outputs": [],
   "source": [
    "mylist = [1,2,3]\n",
    "\n",
    "mylist.append(4)"
   ]
  },
  {
   "cell_type": "code",
   "execution_count": 2,
   "id": "46ddfe62",
   "metadata": {},
   "outputs": [
    {
     "data": {
      "text/plain": [
       "[1, 2, 3, 4]"
      ]
     },
     "execution_count": 2,
     "metadata": {},
     "output_type": "execute_result"
    }
   ],
   "source": [
    "mylist"
   ]
  },
  {
   "cell_type": "code",
   "execution_count": 3,
   "id": "2dfec684",
   "metadata": {},
   "outputs": [
    {
     "data": {
      "text/plain": [
       "4"
      ]
     },
     "execution_count": 3,
     "metadata": {},
     "output_type": "execute_result"
    }
   ],
   "source": [
    "mylist.pop()"
   ]
  },
  {
   "cell_type": "code",
   "execution_count": 4,
   "id": "30abfce2",
   "metadata": {},
   "outputs": [
    {
     "data": {
      "text/plain": [
       "[1, 2, 3]"
      ]
     },
     "execution_count": 4,
     "metadata": {},
     "output_type": "execute_result"
    }
   ],
   "source": [
    "mylist"
   ]
  },
  {
   "cell_type": "code",
   "execution_count": 5,
   "id": "8e177975",
   "metadata": {},
   "outputs": [
    {
     "name": "stdout",
     "output_type": "stream",
     "text": [
      "Help on built-in function insert:\n",
      "\n",
      "insert(index, object, /) method of builtins.list instance\n",
      "    Insert object before index.\n",
      "\n"
     ]
    }
   ],
   "source": [
    "help(mylist.insert)"
   ]
  },
  {
   "cell_type": "markdown",
   "id": "6e1ef7e3",
   "metadata": {},
   "source": [
    "Functions"
   ]
  },
  {
   "cell_type": "code",
   "execution_count": 6,
   "id": "f913b5e7",
   "metadata": {},
   "outputs": [],
   "source": [
    "#def keyword\n",
    "\n",
    "def say_hello():\n",
    "    print('hello')"
   ]
  },
  {
   "cell_type": "code",
   "execution_count": 7,
   "id": "396ed636",
   "metadata": {},
   "outputs": [
    {
     "name": "stdout",
     "output_type": "stream",
     "text": [
      "hello\n"
     ]
    }
   ],
   "source": [
    "say_hello()"
   ]
  },
  {
   "cell_type": "code",
   "execution_count": 8,
   "id": "2621edbd",
   "metadata": {},
   "outputs": [
    {
     "data": {
      "text/plain": [
       "<function __main__.say_hello()>"
      ]
     },
     "execution_count": 8,
     "metadata": {},
     "output_type": "execute_result"
    }
   ],
   "source": [
    "say_hello"
   ]
  },
  {
   "cell_type": "code",
   "execution_count": 12,
   "id": "65950ec2",
   "metadata": {},
   "outputs": [],
   "source": [
    "def say_hello(name):\n",
    "    print(f'Hello {name}')"
   ]
  },
  {
   "cell_type": "code",
   "execution_count": 13,
   "id": "a4e6b24b",
   "metadata": {},
   "outputs": [
    {
     "name": "stdout",
     "output_type": "stream",
     "text": [
      "Hello Jelly\n"
     ]
    }
   ],
   "source": [
    "say_hello('Jelly')"
   ]
  },
  {
   "cell_type": "code",
   "execution_count": 14,
   "id": "5ad42a3d",
   "metadata": {},
   "outputs": [],
   "source": [
    "#return\n",
    "\n",
    "def add_num(num1,num2):\n",
    "    return num1+num2"
   ]
  },
  {
   "cell_type": "code",
   "execution_count": 16,
   "id": "f4cc6f48",
   "metadata": {},
   "outputs": [],
   "source": [
    "result = add_num(1,2)"
   ]
  },
  {
   "cell_type": "code",
   "execution_count": 17,
   "id": "602a0abf",
   "metadata": {},
   "outputs": [
    {
     "data": {
      "text/plain": [
       "3"
      ]
     },
     "execution_count": 17,
     "metadata": {},
     "output_type": "execute_result"
    }
   ],
   "source": [
    "result"
   ]
  },
  {
   "cell_type": "code",
   "execution_count": 18,
   "id": "144cc3dd",
   "metadata": {},
   "outputs": [],
   "source": [
    "def print_result(a,b):\n",
    "    print(a+b)"
   ]
  },
  {
   "cell_type": "code",
   "execution_count": 19,
   "id": "808c43ce",
   "metadata": {},
   "outputs": [],
   "source": [
    "def return_result(a,b):#return will assign the output to a variable unlike print which is nonetype\n",
    "    return a+b"
   ]
  },
  {
   "cell_type": "code",
   "execution_count": 21,
   "id": "53905a32",
   "metadata": {},
   "outputs": [
    {
     "name": "stdout",
     "output_type": "stream",
     "text": [
      "3\n"
     ]
    }
   ],
   "source": [
    "res = print_result(1,2)"
   ]
  },
  {
   "cell_type": "code",
   "execution_count": 22,
   "id": "131b1c38",
   "metadata": {},
   "outputs": [],
   "source": [
    "res"
   ]
  },
  {
   "cell_type": "code",
   "execution_count": 23,
   "id": "6bfa3d8e",
   "metadata": {},
   "outputs": [],
   "source": [
    "res = return_result(1,2)"
   ]
  },
  {
   "cell_type": "code",
   "execution_count": 24,
   "id": "1eb0b547",
   "metadata": {},
   "outputs": [
    {
     "data": {
      "text/plain": [
       "3"
      ]
     },
     "execution_count": 24,
     "metadata": {},
     "output_type": "execute_result"
    }
   ],
   "source": [
    "res"
   ]
  },
  {
   "cell_type": "code",
   "execution_count": 25,
   "id": "4f754fe2",
   "metadata": {},
   "outputs": [],
   "source": [
    "def sum_nums(num1,num2):\n",
    "    return num1+num2"
   ]
  },
  {
   "cell_type": "code",
   "execution_count": 26,
   "id": "dae264ab",
   "metadata": {},
   "outputs": [
    {
     "data": {
      "text/plain": [
       "30"
      ]
     },
     "execution_count": 26,
     "metadata": {},
     "output_type": "execute_result"
    }
   ],
   "source": [
    "sum_nums(10,20)"
   ]
  },
  {
   "cell_type": "code",
   "execution_count": 27,
   "id": "d1ff1643",
   "metadata": {},
   "outputs": [
    {
     "data": {
      "text/plain": [
       "'1020'"
      ]
     },
     "execution_count": 27,
     "metadata": {},
     "output_type": "execute_result"
    }
   ],
   "source": [
    "sum_nums('10','20')"
   ]
  },
  {
   "cell_type": "code",
   "execution_count": 29,
   "id": "3a993131",
   "metadata": {},
   "outputs": [
    {
     "data": {
      "text/plain": [
       "function"
      ]
     },
     "execution_count": 29,
     "metadata": {},
     "output_type": "execute_result"
    }
   ],
   "source": [
    "type(sum_nums)"
   ]
  },
  {
   "cell_type": "code",
   "execution_count": 30,
   "id": "6875e30f",
   "metadata": {},
   "outputs": [],
   "source": [
    "def even_check(number):\n",
    "    result= number % 2 == 0\n",
    "    return result"
   ]
  },
  {
   "cell_type": "code",
   "execution_count": 31,
   "id": "fd6677d6",
   "metadata": {},
   "outputs": [
    {
     "data": {
      "text/plain": [
       "False"
      ]
     },
     "execution_count": 31,
     "metadata": {},
     "output_type": "execute_result"
    }
   ],
   "source": [
    "even_check(21)"
   ]
  },
  {
   "cell_type": "code",
   "execution_count": 32,
   "id": "6e71a2a1",
   "metadata": {},
   "outputs": [
    {
     "data": {
      "text/plain": [
       "True"
      ]
     },
     "execution_count": 32,
     "metadata": {},
     "output_type": "execute_result"
    }
   ],
   "source": [
    "even_check(40)"
   ]
  },
  {
   "cell_type": "code",
   "execution_count": 37,
   "id": "0c04315c",
   "metadata": {},
   "outputs": [],
   "source": [
    "# return true if any nuber is even inside a list\n",
    "\n",
    "def check_even_list(num_list):\n",
    "    \n",
    "    for num in num_list:\n",
    "        if num % 2 == 0:\n",
    "            return True\n",
    "        else:\n",
    "            pass\n",
    "   \n",
    "    return False"
   ]
  },
  {
   "cell_type": "code",
   "execution_count": 38,
   "id": "f4708b02",
   "metadata": {},
   "outputs": [
    {
     "data": {
      "text/plain": [
       "True"
      ]
     },
     "execution_count": 38,
     "metadata": {},
     "output_type": "execute_result"
    }
   ],
   "source": [
    "check_even_list([2,4,56,7,8,9])"
   ]
  },
  {
   "cell_type": "code",
   "execution_count": 40,
   "id": "28875e0b",
   "metadata": {},
   "outputs": [
    {
     "data": {
      "text/plain": [
       "False"
      ]
     },
     "execution_count": 40,
     "metadata": {},
     "output_type": "execute_result"
    }
   ],
   "source": [
    "check_even_list([1,1,1])"
   ]
  },
  {
   "cell_type": "code",
   "execution_count": 45,
   "id": "c9ab6b26",
   "metadata": {},
   "outputs": [],
   "source": [
    "#return all the even numbers in a list\n",
    "def even_list(num_list):\n",
    "    \n",
    "    even_numbers = [] #placeholder variables\n",
    "    \n",
    "    for num in num_list:\n",
    "        if num % 2==0:\n",
    "            even_numbers.append(num)\n",
    "        else:\n",
    "            pass\n",
    "    return even_numbers"
   ]
  },
  {
   "cell_type": "code",
   "execution_count": 46,
   "id": "cee1fdbb",
   "metadata": {},
   "outputs": [
    {
     "data": {
      "text/plain": [
       "[2, 4, 6]"
      ]
     },
     "execution_count": 46,
     "metadata": {},
     "output_type": "execute_result"
    }
   ],
   "source": [
    "even_list([1,2,3,4,5,6])"
   ]
  },
  {
   "cell_type": "code",
   "execution_count": 47,
   "id": "2e49c602",
   "metadata": {},
   "outputs": [],
   "source": [
    "#functions and tuple unpacking\n",
    "\n",
    "sp = [('Appl',200),('Goog',400),('Msft',300)]"
   ]
  },
  {
   "cell_type": "code",
   "execution_count": 48,
   "id": "e4cf033a",
   "metadata": {},
   "outputs": [
    {
     "name": "stdout",
     "output_type": "stream",
     "text": [
      "('Appl', 200)\n",
      "('Goog', 400)\n",
      "('Msft', 300)\n"
     ]
    }
   ],
   "source": [
    "for item in sp:\n",
    "    print(item)"
   ]
  },
  {
   "cell_type": "code",
   "execution_count": 49,
   "id": "c5415d81",
   "metadata": {},
   "outputs": [
    {
     "name": "stdout",
     "output_type": "stream",
     "text": [
      "220.0\n",
      "440.0\n",
      "330.0\n"
     ]
    }
   ],
   "source": [
    "for t,p in sp:\n",
    "    print(p+(0.1*p))"
   ]
  },
  {
   "cell_type": "code",
   "execution_count": 50,
   "id": "365ec7e3",
   "metadata": {},
   "outputs": [],
   "source": [
    "wh = [('Abby',100),('Billy', 400),('Cassy',600)]"
   ]
  },
  {
   "cell_type": "code",
   "execution_count": 54,
   "id": "6b3b18d0",
   "metadata": {},
   "outputs": [],
   "source": [
    "def employee_check(wh):\n",
    "    \n",
    "    current_max = 0\n",
    "    employee_of_month = ''\n",
    "    \n",
    "    for employee, hours in wh:\n",
    "        if hours > current_max:\n",
    "            current_max = hours\n",
    "            employee_of_month = employee\n",
    "        else:\n",
    "            pass\n",
    "        \n",
    "    return(employee_of_month, current_max)"
   ]
  },
  {
   "cell_type": "code",
   "execution_count": 55,
   "id": "1b08d60e",
   "metadata": {},
   "outputs": [
    {
     "data": {
      "text/plain": [
       "('Cassy', 600)"
      ]
     },
     "execution_count": 55,
     "metadata": {},
     "output_type": "execute_result"
    }
   ],
   "source": [
    "employee_check(wh)"
   ]
  },
  {
   "cell_type": "code",
   "execution_count": 56,
   "id": "6a7ce0a6",
   "metadata": {},
   "outputs": [],
   "source": [
    "res = employee_check(wh)"
   ]
  },
  {
   "cell_type": "code",
   "execution_count": 57,
   "id": "2ecc3eb9",
   "metadata": {},
   "outputs": [
    {
     "data": {
      "text/plain": [
       "('Cassy', 600)"
      ]
     },
     "execution_count": 57,
     "metadata": {},
     "output_type": "execute_result"
    }
   ],
   "source": [
    "res"
   ]
  },
  {
   "cell_type": "code",
   "execution_count": 58,
   "id": "ebf32185",
   "metadata": {},
   "outputs": [],
   "source": [
    "(name, hours) = res"
   ]
  },
  {
   "cell_type": "code",
   "execution_count": 59,
   "id": "d13cc3dc",
   "metadata": {},
   "outputs": [
    {
     "data": {
      "text/plain": [
       "'Cassy'"
      ]
     },
     "execution_count": 59,
     "metadata": {},
     "output_type": "execute_result"
    }
   ],
   "source": [
    "name"
   ]
  },
  {
   "cell_type": "code",
   "execution_count": 60,
   "id": "b7378b0b",
   "metadata": {},
   "outputs": [
    {
     "data": {
      "text/plain": [
       "600"
      ]
     },
     "execution_count": 60,
     "metadata": {},
     "output_type": "execute_result"
    }
   ],
   "source": [
    "hours"
   ]
  },
  {
   "cell_type": "code",
   "execution_count": 61,
   "id": "4a3d4303",
   "metadata": {},
   "outputs": [],
   "source": [
    "example = [1,2,3,4,5,6,7]\n",
    "\n",
    "from random import shuffle"
   ]
  },
  {
   "cell_type": "code",
   "execution_count": 67,
   "id": "f1feb266",
   "metadata": {},
   "outputs": [],
   "source": [
    "shuffle(example)"
   ]
  },
  {
   "cell_type": "code",
   "execution_count": 68,
   "id": "c98bc2da",
   "metadata": {},
   "outputs": [
    {
     "data": {
      "text/plain": [
       "[5, 2, 3, 6, 4, 1, 7]"
      ]
     },
     "execution_count": 68,
     "metadata": {},
     "output_type": "execute_result"
    }
   ],
   "source": [
    "example"
   ]
  },
  {
   "cell_type": "code",
   "execution_count": 69,
   "id": "8b0058bd",
   "metadata": {},
   "outputs": [],
   "source": [
    "def shuffle_list(mylist):\n",
    "    shuffle(mylist)\n",
    "    return mylist"
   ]
  },
  {
   "cell_type": "code",
   "execution_count": 70,
   "id": "37bd466d",
   "metadata": {},
   "outputs": [],
   "source": [
    "result = shuffle_list(example)"
   ]
  },
  {
   "cell_type": "code",
   "execution_count": 71,
   "id": "4d354311",
   "metadata": {},
   "outputs": [
    {
     "data": {
      "text/plain": [
       "[5, 1, 3, 4, 6, 2, 7]"
      ]
     },
     "execution_count": 71,
     "metadata": {},
     "output_type": "execute_result"
    }
   ],
   "source": [
    "result"
   ]
  },
  {
   "cell_type": "code",
   "execution_count": 72,
   "id": "1f3d03fc",
   "metadata": {},
   "outputs": [],
   "source": [
    "mylist= [' ','o',' ']"
   ]
  },
  {
   "cell_type": "code",
   "execution_count": 73,
   "id": "7fec00a8",
   "metadata": {},
   "outputs": [
    {
     "data": {
      "text/plain": [
       "['o', ' ', ' ']"
      ]
     },
     "execution_count": 73,
     "metadata": {},
     "output_type": "execute_result"
    }
   ],
   "source": [
    "shuffle_list(mylist)"
   ]
  },
  {
   "cell_type": "code",
   "execution_count": 74,
   "id": "82d5bb0f",
   "metadata": {},
   "outputs": [],
   "source": [
    "def player_guess():\n",
    "    \n",
    "    guess = ''\n",
    "   \n",
    "    while guess not in ['0','1','2']:\n",
    "        guess = input('pick a number: 0, 1or 2')\n",
    "        \n",
    "    return int(guess)"
   ]
  },
  {
   "cell_type": "code",
   "execution_count": 75,
   "id": "5229c8f9",
   "metadata": {},
   "outputs": [
    {
     "name": "stdout",
     "output_type": "stream",
     "text": [
      "pick a number: 0, 1or 22\n"
     ]
    },
    {
     "data": {
      "text/plain": [
       "2"
      ]
     },
     "execution_count": 75,
     "metadata": {},
     "output_type": "execute_result"
    }
   ],
   "source": [
    "player_guess()"
   ]
  },
  {
   "cell_type": "code",
   "execution_count": 76,
   "id": "9a348ec8",
   "metadata": {},
   "outputs": [
    {
     "name": "stdout",
     "output_type": "stream",
     "text": [
      "pick a number: 0, 1or 21\n"
     ]
    },
    {
     "data": {
      "text/plain": [
       "1"
      ]
     },
     "execution_count": 76,
     "metadata": {},
     "output_type": "execute_result"
    }
   ],
   "source": [
    "player_guess()"
   ]
  },
  {
   "cell_type": "code",
   "execution_count": 77,
   "id": "a6d5bbf8",
   "metadata": {},
   "outputs": [
    {
     "name": "stdout",
     "output_type": "stream",
     "text": [
      "pick a number: 0, 1or 28\n",
      "pick a number: 0, 1or 21\n"
     ]
    },
    {
     "data": {
      "text/plain": [
       "1"
      ]
     },
     "execution_count": 77,
     "metadata": {},
     "output_type": "execute_result"
    }
   ],
   "source": [
    "player_guess()"
   ]
  },
  {
   "cell_type": "code",
   "execution_count": 78,
   "id": "ff0633da",
   "metadata": {},
   "outputs": [],
   "source": [
    "def check_guess(mylist, guess):\n",
    "    if mylist[guess] == '0':\n",
    "        print(\"correct\")\n",
    "    else:\n",
    "        print(\"wrong\")\n",
    "        print(mylist)"
   ]
  },
  {
   "cell_type": "code",
   "execution_count": 79,
   "id": "ab6d16ef",
   "metadata": {},
   "outputs": [
    {
     "name": "stdout",
     "output_type": "stream",
     "text": [
      "pick a number: 0, 1or 25\n",
      "pick a number: 0, 1or 20\n",
      "wrong\n",
      "[' ', ' ', '0']\n"
     ]
    }
   ],
   "source": [
    "# initial list\n",
    "mylist = [' ','0',' ']\n",
    "\n",
    "#shuffle list\n",
    "mixedup_list = shuffle_list(mylist)\n",
    "\n",
    "#userguess\n",
    "guess = player_guess()\n",
    "\n",
    "#check guess\n",
    "check_guess(mixedup_list, guess)"
   ]
  },
  {
   "cell_type": "code",
   "execution_count": 80,
   "id": "ca777b58",
   "metadata": {},
   "outputs": [],
   "source": [
    "#args and kwargs- arguments and keyword arguments\n",
    "\n",
    "def myfunc(a,b):\n",
    "    #return 5% of the sum of a and b\n",
    "    return sum((a,b))* 0.05\n",
    "\n"
   ]
  },
  {
   "cell_type": "code",
   "execution_count": 81,
   "id": "4b44685d",
   "metadata": {},
   "outputs": [
    {
     "data": {
      "text/plain": [
       "5.0"
      ]
     },
     "execution_count": 81,
     "metadata": {},
     "output_type": "execute_result"
    }
   ],
   "source": [
    "myfunc(40,60)"
   ]
  },
  {
   "cell_type": "code",
   "execution_count": 82,
   "id": "795aa0f5",
   "metadata": {},
   "outputs": [],
   "source": [
    "def myfunc(*args):#pass any number of args which returns back a tuple\n",
    "    return sum(args) * 0.05"
   ]
  },
  {
   "cell_type": "code",
   "execution_count": 83,
   "id": "5ac5dc5b",
   "metadata": {},
   "outputs": [
    {
     "data": {
      "text/plain": [
       "10.0"
      ]
     },
     "execution_count": 83,
     "metadata": {},
     "output_type": "execute_result"
    }
   ],
   "source": [
    "myfunc(40,60,100)"
   ]
  },
  {
   "cell_type": "code",
   "execution_count": 89,
   "id": "aa887e59",
   "metadata": {},
   "outputs": [],
   "source": [
    "def myfunc(**kwargs):#returns a dictonary \n",
    "    print(kwargs)\n",
    "    if 'fruit' in kwargs:\n",
    "        print('my fruit of choice is {}'.format(kwargs['fruit']))\n",
    "    else:\n",
    "        print('no fruit found')"
   ]
  },
  {
   "cell_type": "code",
   "execution_count": 90,
   "id": "f23b9db2",
   "metadata": {},
   "outputs": [
    {
     "name": "stdout",
     "output_type": "stream",
     "text": [
      "{'fruit': 'apple', 'veggie': 'lettuce'}\n",
      "my fruit of choice is apple\n"
     ]
    }
   ],
   "source": [
    "myfunc(fruit = 'apple', veggie = 'lettuce')"
   ]
  },
  {
   "cell_type": "code",
   "execution_count": 93,
   "id": "e37b5c00",
   "metadata": {},
   "outputs": [],
   "source": [
    "def myfunc(*args, **kwargs):\n",
    "    print(args, kwargs)\n",
    "    print('I would like {} {}'.format(args[0],kwargs['food']))"
   ]
  },
  {
   "cell_type": "code",
   "execution_count": 94,
   "id": "ec6b7eac",
   "metadata": {},
   "outputs": [
    {
     "name": "stdout",
     "output_type": "stream",
     "text": [
      "(10, 20, 30) {'fruit': 'orange', 'food': 'eggs', 'animal': 'dog'}\n",
      "I would like 10 eggs\n"
     ]
    }
   ],
   "source": [
    "myfunc(10,20,30, fruit = 'orange', food ='eggs', animal ='dog')"
   ]
  },
  {
   "cell_type": "code",
   "execution_count": 107,
   "id": "769406b1",
   "metadata": {},
   "outputs": [],
   "source": [
    "def myfunc(*args):\n",
    "    mylist = []\n",
    "    for num in args:\n",
    "        if num %2 == 0:\n",
    "            mylist.append(num)\n",
    "        else:\n",
    "            pass\n",
    "    return mylist"
   ]
  },
  {
   "cell_type": "code",
   "execution_count": 108,
   "id": "4d8b11d5",
   "metadata": {},
   "outputs": [
    {
     "data": {
      "text/plain": [
       "[2, 4]"
      ]
     },
     "execution_count": 108,
     "metadata": {},
     "output_type": "execute_result"
    }
   ],
   "source": [
    "myfunc(1,2,3,4)"
   ]
  },
  {
   "cell_type": "code",
   "execution_count": 146,
   "id": "2213e6fa",
   "metadata": {},
   "outputs": [],
   "source": [
    "def myfunc(str):\n",
    "    newstr = ''\n",
    "    for i, item in enumerate(str):\n",
    "        if i%2 == 0:\n",
    "            newstr += item.lower()\n",
    "        else:\n",
    "            newstr += item.upper()\n",
    "    return newstr"
   ]
  },
  {
   "cell_type": "code",
   "execution_count": 147,
   "id": "fbf1f948",
   "metadata": {},
   "outputs": [
    {
     "data": {
      "text/plain": [
       "'sAhItHi'"
      ]
     },
     "execution_count": 147,
     "metadata": {},
     "output_type": "execute_result"
    }
   ],
   "source": [
    "myfunc('Sahithi')"
   ]
  },
  {
   "cell_type": "code",
   "execution_count": 129,
   "id": "de7be931",
   "metadata": {},
   "outputs": [
    {
     "data": {
      "text/plain": [
       "0"
      ]
     },
     "execution_count": 129,
     "metadata": {},
     "output_type": "execute_result"
    }
   ],
   "source": [
    "2%2"
   ]
  },
  {
   "cell_type": "code",
   "execution_count": 145,
   "id": "cbd1b3f7",
   "metadata": {},
   "outputs": [
    {
     "data": {
      "text/plain": [
       "1"
      ]
     },
     "execution_count": 145,
     "metadata": {},
     "output_type": "execute_result"
    }
   ],
   "source": [
    "3%2"
   ]
  },
  {
   "cell_type": "code",
   "execution_count": null,
   "id": "fbabdcc8",
   "metadata": {},
   "outputs": [],
   "source": []
  }
 ],
 "metadata": {
  "kernelspec": {
   "display_name": "Python 3 (ipykernel)",
   "language": "python",
   "name": "python3"
  },
  "language_info": {
   "codemirror_mode": {
    "name": "ipython",
    "version": 3
   },
   "file_extension": ".py",
   "mimetype": "text/x-python",
   "name": "python",
   "nbconvert_exporter": "python",
   "pygments_lexer": "ipython3",
   "version": "3.9.6"
  }
 },
 "nbformat": 4,
 "nbformat_minor": 5
}
