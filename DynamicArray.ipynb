{
 "cells": [
  {
   "cell_type": "code",
   "execution_count": 3,
   "id": "af6e9522",
   "metadata": {},
   "outputs": [],
   "source": [
    "# Dynamic Array\n",
    "\n",
    "class M(object):\n",
    "    \n",
    "    def public(self):\n",
    "        print ('Use Tab to see me!')\n",
    "        \n",
    "    def _private(self):\n",
    "        print (\"You won't be able to Tab to see me!\")"
   ]
  },
  {
   "cell_type": "code",
   "execution_count": 4,
   "id": "442b6c72",
   "metadata": {},
   "outputs": [],
   "source": [
    "m = M()\n"
   ]
  },
  {
   "cell_type": "code",
   "execution_count": 5,
   "id": "2d3a6180",
   "metadata": {},
   "outputs": [
    {
     "name": "stdout",
     "output_type": "stream",
     "text": [
      "Use Tab to see me!\n"
     ]
    }
   ],
   "source": [
    "m.public()"
   ]
  },
  {
   "cell_type": "code",
   "execution_count": 6,
   "id": "15bc931b",
   "metadata": {},
   "outputs": [
    {
     "name": "stdout",
     "output_type": "stream",
     "text": [
      "You won't be able to Tab to see me!\n"
     ]
    }
   ],
   "source": [
    "m._private()"
   ]
  },
  {
   "cell_type": "code",
   "execution_count": 7,
   "id": "a8d01f74",
   "metadata": {},
   "outputs": [],
   "source": [
    "import ctypes\n",
    "\n",
    "class DynamicArray(object):\n",
    "    \n",
    "    \n",
    "    def __init__(self):\n",
    "        \n",
    "        self.n = 0\n",
    "        self.capacity = 1\n",
    "        self.A = self.make_array(self.capacity)\n",
    "        \n",
    "    def __len__(self):\n",
    "        \n",
    "        return self.n\n",
    "    \n",
    "    def __getitem__(self,k):\n",
    "        \n",
    "        if not 0<= k < self.n:\n",
    "            return IndexError('k is out of Bounds!')\n",
    "    \n",
    "        return self.A[k]\n",
    "    \n",
    "    def append(self, ele):\n",
    "        \n",
    "        if self.n == self.capacity:\n",
    "            self._resize(2*self.capacity)\n",
    "    \n",
    "        self.A[self.n] = ele\n",
    "        self.n +=1\n",
    "        \n",
    "    def _resize(self, new_cap):\n",
    "        \n",
    "        B = self.make_array(new_cap)\n",
    "        \n",
    "        for k in range(self.n):\n",
    "            B[k] = self.A[k]\n",
    "            \n",
    "        self.A = B\n",
    "        self.capacity = new_cap\n",
    "        \n",
    "    def make_array(self,new_cap):\n",
    "        \n",
    "        return(new_cap*ctypes.py_object)()\n",
    "        "
   ]
  },
  {
   "cell_type": "code",
   "execution_count": 8,
   "id": "91a4132f",
   "metadata": {},
   "outputs": [],
   "source": [
    "arr = DynamicArray()"
   ]
  },
  {
   "cell_type": "code",
   "execution_count": 9,
   "id": "cfb2510d",
   "metadata": {},
   "outputs": [],
   "source": [
    "arr.append(1)"
   ]
  },
  {
   "cell_type": "code",
   "execution_count": 10,
   "id": "36f4baf2",
   "metadata": {},
   "outputs": [
    {
     "data": {
      "text/plain": [
       "1"
      ]
     },
     "execution_count": 10,
     "metadata": {},
     "output_type": "execute_result"
    }
   ],
   "source": [
    "len(arr)"
   ]
  },
  {
   "cell_type": "code",
   "execution_count": 11,
   "id": "626a7e0c",
   "metadata": {},
   "outputs": [
    {
     "data": {
      "text/plain": [
       "1"
      ]
     },
     "execution_count": 11,
     "metadata": {},
     "output_type": "execute_result"
    }
   ],
   "source": [
    "arr[0]"
   ]
  },
  {
   "cell_type": "code",
   "execution_count": null,
   "id": "dbb3e539",
   "metadata": {},
   "outputs": [],
   "source": []
  }
 ],
 "metadata": {
  "kernelspec": {
   "display_name": "Python 3 (ipykernel)",
   "language": "python",
   "name": "python3"
  },
  "language_info": {
   "codemirror_mode": {
    "name": "ipython",
    "version": 3
   },
   "file_extension": ".py",
   "mimetype": "text/x-python",
   "name": "python",
   "nbconvert_exporter": "python",
   "pygments_lexer": "ipython3",
   "version": "3.9.6"
  }
 },
 "nbformat": 4,
 "nbformat_minor": 5
}
