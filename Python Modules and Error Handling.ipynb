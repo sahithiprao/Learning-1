{
 "cells": [
  {
   "cell_type": "markdown",
   "id": "65e40b41",
   "metadata": {},
   "source": [
    "save one file on desktop as one.py and other one as two.py\n",
    "\n",
    "cmd python nameoffile.py\n",
    "\n",
    "built in variable called __name__ = \"__main__\" then python treats as\n",
    "if(__name__ == \"__main__\"):\n",
    "    myfunc()\n",
    "    \n",
    "###in one.py file \n",
    "def func():\n",
    "    print(\"Func() in one.py\")\n",
    "print(\"Top level in one.py\")\n",
    "\n",
    "if __name__ == '__main__':\n",
    "    print('one.py is being directly run')\n",
    "else:\n",
    "    print('one.py has been imported')\n",
    "\n",
    "###in two.py\n",
    "import one\n",
    "\n",
    "print('top level in two.py')\n",
    "\n",
    "one.func()\n",
    "\n",
    "#built in varaiable will see if something is being imported or not and prints the statement accordingly\n",
    "if __name == '__main__': \n",
    "    print('Two.py is being run directly')\n",
    "else:\n",
    "    print('two.py has been imported')"
   ]
  },
  {
   "cell_type": "markdown",
   "id": "713a91c8",
   "metadata": {},
   "source": [
    "ERRORS AND EXCEPTION HANDLING\n",
    "\n",
    "try, except and finally\n"
   ]
  },
  {
   "cell_type": "code",
   "execution_count": 1,
   "id": "bf0d9c2b",
   "metadata": {},
   "outputs": [],
   "source": [
    "def add(n1,n2):\n",
    "    print (n1+n2)"
   ]
  },
  {
   "cell_type": "code",
   "execution_count": 2,
   "id": "c1196f21",
   "metadata": {},
   "outputs": [
    {
     "name": "stdout",
     "output_type": "stream",
     "text": [
      "5\n"
     ]
    }
   ],
   "source": [
    "add(2,3)"
   ]
  },
  {
   "cell_type": "code",
   "execution_count": 3,
   "id": "0bc6cba2",
   "metadata": {},
   "outputs": [],
   "source": [
    "num1 = 10"
   ]
  },
  {
   "cell_type": "code",
   "execution_count": 4,
   "id": "5ed68b27",
   "metadata": {},
   "outputs": [
    {
     "name": "stdout",
     "output_type": "stream",
     "text": [
      "please provide a number: 20\n"
     ]
    }
   ],
   "source": [
    "num2 = input('please provide a number: ')"
   ]
  },
  {
   "cell_type": "code",
   "execution_count": 5,
   "id": "0b2d60b6",
   "metadata": {},
   "outputs": [
    {
     "ename": "TypeError",
     "evalue": "unsupported operand type(s) for +: 'int' and 'str'",
     "output_type": "error",
     "traceback": [
      "\u001b[1;31m---------------------------------------------------------------------------\u001b[0m",
      "\u001b[1;31mTypeError\u001b[0m                                 Traceback (most recent call last)",
      "\u001b[1;32m~\\AppData\\Local\\Temp/ipykernel_32776/1247797640.py\u001b[0m in \u001b[0;36m<module>\u001b[1;34m\u001b[0m\n\u001b[1;32m----> 1\u001b[1;33m \u001b[0madd\u001b[0m\u001b[1;33m(\u001b[0m\u001b[0mnum1\u001b[0m\u001b[1;33m,\u001b[0m\u001b[0mnum2\u001b[0m\u001b[1;33m)\u001b[0m \u001b[1;31m# error is-----> unsupported operand type(s) for +: 'int' and 'str'\u001b[0m\u001b[1;33m\u001b[0m\u001b[1;33m\u001b[0m\u001b[0m\n\u001b[0m",
      "\u001b[1;32m~\\AppData\\Local\\Temp/ipykernel_32776/363597975.py\u001b[0m in \u001b[0;36madd\u001b[1;34m(n1, n2)\u001b[0m\n\u001b[0;32m      1\u001b[0m \u001b[1;32mdef\u001b[0m \u001b[0madd\u001b[0m\u001b[1;33m(\u001b[0m\u001b[0mn1\u001b[0m\u001b[1;33m,\u001b[0m\u001b[0mn2\u001b[0m\u001b[1;33m)\u001b[0m\u001b[1;33m:\u001b[0m\u001b[1;33m\u001b[0m\u001b[1;33m\u001b[0m\u001b[0m\n\u001b[1;32m----> 2\u001b[1;33m     \u001b[0mprint\u001b[0m \u001b[1;33m(\u001b[0m\u001b[0mn1\u001b[0m\u001b[1;33m+\u001b[0m\u001b[0mn2\u001b[0m\u001b[1;33m)\u001b[0m\u001b[1;33m\u001b[0m\u001b[1;33m\u001b[0m\u001b[0m\n\u001b[0m",
      "\u001b[1;31mTypeError\u001b[0m: unsupported operand type(s) for +: 'int' and 'str'"
     ]
    }
   ],
   "source": [
    "add(num1,num2) # error is-----> unsupported operand type(s) for +: 'int' and 'str'"
   ]
  },
  {
   "cell_type": "code",
   "execution_count": 6,
   "id": "715f6dce",
   "metadata": {},
   "outputs": [
    {
     "name": "stdout",
     "output_type": "stream",
     "text": [
      "add went well\n",
      "20\n"
     ]
    }
   ],
   "source": [
    "try:\n",
    "    #want to attempt this code even it may have an error\n",
    "    result = 10+10\n",
    "except:\n",
    "    print(\"hey it looks like you aren't adding correctly!\")\n",
    "else:\n",
    "    print('add went well')\n",
    "    print(result)"
   ]
  },
  {
   "cell_type": "code",
   "execution_count": 7,
   "id": "fb7841e1",
   "metadata": {},
   "outputs": [
    {
     "data": {
      "text/plain": [
       "20"
      ]
     },
     "execution_count": 7,
     "metadata": {},
     "output_type": "execute_result"
    }
   ],
   "source": [
    "result"
   ]
  },
  {
   "cell_type": "code",
   "execution_count": 8,
   "id": "4f2d65de",
   "metadata": {},
   "outputs": [
    {
     "name": "stdout",
     "output_type": "stream",
     "text": [
      "Hey you have an OS Error\n",
      "I always run\n"
     ]
    }
   ],
   "source": [
    "#there are many errors..find in python doc\n",
    "try:\n",
    "    f = open('testfile','r')\n",
    "    f.write('write a test line')\n",
    "except TypeError:\n",
    "    print('There was a typeerror')\n",
    "except OSError:\n",
    "    print('Hey you have an OS Error')\n",
    "finally:\n",
    "    print('I always run')"
   ]
  },
  {
   "cell_type": "code",
   "execution_count": 9,
   "id": "0f093d48",
   "metadata": {},
   "outputs": [
    {
     "name": "stdout",
     "output_type": "stream",
     "text": [
      "I always run\n"
     ]
    }
   ],
   "source": [
    "try:\n",
    "    f = open('testfile','w')\n",
    "    f.write('write a test line')\n",
    "except TypeError:\n",
    "    print('There was a typeerror')\n",
    "except:\n",
    "    print('All other exceptions')\n",
    "finally:\n",
    "    print('I always run')"
   ]
  },
  {
   "cell_type": "code",
   "execution_count": 10,
   "id": "8464cf96",
   "metadata": {},
   "outputs": [],
   "source": [
    "def ask_for_int():\n",
    "    try:\n",
    "        result = int(input('Please provide number: '))\n",
    "    except:\n",
    "        print('Whoops! that is not a number')\n",
    "    finally:\n",
    "        print('End of try/except/finally')"
   ]
  },
  {
   "cell_type": "code",
   "execution_count": 11,
   "id": "5afa671c",
   "metadata": {},
   "outputs": [
    {
     "name": "stdout",
     "output_type": "stream",
     "text": [
      "Please provide number: 10\n",
      "End of try/except/finally\n"
     ]
    }
   ],
   "source": [
    "ask_for_int()"
   ]
  },
  {
   "cell_type": "code",
   "execution_count": 12,
   "id": "92e85111",
   "metadata": {},
   "outputs": [
    {
     "name": "stdout",
     "output_type": "stream",
     "text": [
      "Please provide number: 10\n",
      "End of try/except/finally\n"
     ]
    }
   ],
   "source": [
    "ask_for_int()"
   ]
  },
  {
   "cell_type": "code",
   "execution_count": 13,
   "id": "2ba30829",
   "metadata": {},
   "outputs": [],
   "source": [
    "#using while\n",
    "\n",
    "def ask_for_int():\n",
    "    \n",
    "    while True:\n",
    "        try:\n",
    "            result = int(input('Please provide number: '))\n",
    "        except:\n",
    "            print('Whoops! that ia not a number')\n",
    "            continue\n",
    "        else:\n",
    "            print('Yes, Thankyou!')\n",
    "            break\n",
    "        finally:\n",
    "            print('End of try/except/finally')\n",
    "            print('End of the run')"
   ]
  },
  {
   "cell_type": "code",
   "execution_count": 14,
   "id": "053595c1",
   "metadata": {},
   "outputs": [
    {
     "name": "stdout",
     "output_type": "stream",
     "text": [
      "Please provide number: null\n",
      "Whoops! that ia not a number\n",
      "End of try/except/finally\n",
      "End of the run\n",
      "Please provide number: 9\n",
      "Yes, Thankyou!\n",
      "End of try/except/finally\n",
      "End of the run\n"
     ]
    }
   ],
   "source": [
    "ask_for_int()"
   ]
  },
  {
   "cell_type": "code",
   "execution_count": null,
   "id": "9cd9f182",
   "metadata": {},
   "outputs": [],
   "source": [
    "ask_for_int()"
   ]
  },
  {
   "cell_type": "code",
   "execution_count": null,
   "id": "63952dfe",
   "metadata": {},
   "outputs": [],
   "source": [
    "####Home work problems\n",
    "\n",
    "try:\n",
    "    for i in ['a','b','c']:\n",
    "        print (i**2)\n",
    "except:\n",
    "    print('Error Occured')"
   ]
  },
  {
   "cell_type": "code",
   "execution_count": null,
   "id": "8a9f2612",
   "metadata": {},
   "outputs": [],
   "source": [
    "try:\n",
    "    x = 5\n",
    "    y = 0\n",
    "\n",
    "    z = x/y\n",
    "except ZeroDivisionError:\n",
    "    print('ZeroDivisionError Occured')\n",
    "finally:\n",
    "    print('All Done')"
   ]
  },
  {
   "cell_type": "code",
   "execution_count": 15,
   "id": "c8246eb8",
   "metadata": {},
   "outputs": [],
   "source": [
    "def ask():\n",
    "    \n",
    "    while True:\n",
    "        try:\n",
    "            i = int(input('Input an integer: '))\n",
    "            res = i**2\n",
    "        except:\n",
    "            print('An error Occured! Please try again!')\n",
    "            continue\n",
    "        else:\n",
    "            print('Thank you, your number squared is: ',res)\n",
    "            break"
   ]
  },
  {
   "cell_type": "code",
   "execution_count": 16,
   "id": "4c91ac24",
   "metadata": {},
   "outputs": [
    {
     "name": "stdout",
     "output_type": "stream",
     "text": [
      "Input an integer: null\n",
      "An error Occured! Please try again!\n",
      "Input an integer: 2\n",
      "Thank you, your number squared is:  4\n"
     ]
    }
   ],
   "source": [
    "ask()"
   ]
  },
  {
   "cell_type": "code",
   "execution_count": null,
   "id": "2bb0e462",
   "metadata": {},
   "outputs": [],
   "source": []
  }
 ],
 "metadata": {
  "kernelspec": {
   "display_name": "Python 3 (ipykernel)",
   "language": "python",
   "name": "python3"
  },
  "language_info": {
   "codemirror_mode": {
    "name": "ipython",
    "version": 3
   },
   "file_extension": ".py",
   "mimetype": "text/x-python",
   "name": "python",
   "nbconvert_exporter": "python",
   "pygments_lexer": "ipython3",
   "version": "3.9.6"
  }
 },
 "nbformat": 4,
 "nbformat_minor": 5
}
