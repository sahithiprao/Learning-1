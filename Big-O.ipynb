{
 "cells": [
  {
   "cell_type": "code",
   "execution_count": 6,
   "id": "972b04f8",
   "metadata": {},
   "outputs": [],
   "source": [
    "#sum of numbers from 0 to N\n",
    "\n",
    "def sum1(n):\n",
    "    \n",
    "    return (n*(n+1))/2"
   ]
  },
  {
   "cell_type": "code",
   "execution_count": 7,
   "id": "6cd6bde8",
   "metadata": {},
   "outputs": [
    {
     "data": {
      "text/plain": [
       "55.0"
      ]
     },
     "execution_count": 7,
     "metadata": {},
     "output_type": "execute_result"
    }
   ],
   "source": [
    "sum1(10)"
   ]
  },
  {
   "cell_type": "code",
   "execution_count": 8,
   "id": "b4ec0020",
   "metadata": {},
   "outputs": [
    {
     "name": "stdout",
     "output_type": "stream",
     "text": [
      "207 ns ± 20.5 ns per loop (mean ± std. dev. of 7 runs, 1000000 loops each)\n"
     ]
    }
   ],
   "source": [
    "%timeit sum1(100)"
   ]
  },
  {
   "cell_type": "markdown",
   "id": "f3ae0fe6",
   "metadata": {},
   "source": [
    "#Big O of built-in Lists and Dictonaries\n",
    "Common operations performed on Lists(Dynamic Arrays) are Indexing and assigning to an index position- which run in a constant time, O(1)\n"
   ]
  },
  {
   "cell_type": "code",
   "execution_count": 11,
   "id": "bf29fe4d",
   "metadata": {},
   "outputs": [],
   "source": [
    "def method1():\n",
    "     l = list(range(10000))\n",
    "        \n"
   ]
  },
  {
   "cell_type": "code",
   "execution_count": 13,
   "id": "82da7592",
   "metadata": {},
   "outputs": [
    {
     "name": "stdout",
     "output_type": "stream",
     "text": [
      "202 µs ± 57.7 µs per loop (mean ± std. dev. of 7 runs, 10000 loops each)\n"
     ]
    }
   ],
   "source": [
    "%timeit method1()"
   ]
  },
  {
   "cell_type": "code",
   "execution_count": 14,
   "id": "7cdcd813",
   "metadata": {},
   "outputs": [],
   "source": [
    "#Dictonaries are harsh tables with keys and values\n",
    "\n",
    "d = {'k1':1, 'k2':2}"
   ]
  },
  {
   "cell_type": "code",
   "execution_count": 18,
   "id": "e6d248fe",
   "metadata": {},
   "outputs": [
    {
     "data": {
      "text/plain": [
       "1"
      ]
     },
     "execution_count": 18,
     "metadata": {},
     "output_type": "execute_result"
    }
   ],
   "source": [
    "d['k1']"
   ]
  },
  {
   "cell_type": "markdown",
   "id": "eca2ea19",
   "metadata": {},
   "source": [
    "O(1)- constant, log n -logarithmic, n - linear, n^2- quadratic, n^3 - cubic, n log n - log linear, 2^n - exponential\n"
   ]
  },
  {
   "cell_type": "markdown",
   "id": "a63325d2",
   "metadata": {},
   "source": [
    "# Big O examples\n"
   ]
  },
  {
   "cell_type": "markdown",
   "id": "6f8f9f47",
   "metadata": {},
   "source": [
    "# O(1) Constant"
   ]
  },
  {
   "cell_type": "code",
   "execution_count": 21,
   "id": "a3d0b356",
   "metadata": {},
   "outputs": [
    {
     "name": "stdout",
     "output_type": "stream",
     "text": [
      "4\n"
     ]
    }
   ],
   "source": [
    "def func_contant(values):\n",
    "    \n",
    "    print (values[0]) #print first item in a list\n",
    "    \n",
    "func_contant([1,2,3,4])\n",
    "    "
   ]
  },
  {
   "cell_type": "markdown",
   "id": "f7abe2d6",
   "metadata": {},
   "source": [
    "# O(n) Linear"
   ]
  },
  {
   "cell_type": "code",
   "execution_count": 23,
   "id": "289be850",
   "metadata": {},
   "outputs": [
    {
     "name": "stdout",
     "output_type": "stream",
     "text": [
      "1\n",
      "2\n",
      "3\n",
      "4\n"
     ]
    }
   ],
   "source": [
    "def func_linear(lst):\n",
    "    \n",
    "    for val in lst:\n",
    "        print (val)\n",
    "        \n",
    "func_linear([1,2,3,4])"
   ]
  },
  {
   "cell_type": "markdown",
   "id": "4a1afc68",
   "metadata": {},
   "source": [
    "# O(n^2) Quadratic"
   ]
  },
  {
   "cell_type": "code",
   "execution_count": 24,
   "id": "5a19312a",
   "metadata": {},
   "outputs": [
    {
     "name": "stdout",
     "output_type": "stream",
     "text": [
      "1 1\n",
      "1 2\n",
      "1 3\n",
      "1 4\n",
      "2 1\n",
      "2 2\n",
      "2 3\n",
      "2 4\n",
      "3 1\n",
      "3 2\n",
      "3 3\n",
      "3 4\n",
      "4 1\n",
      "4 2\n",
      "4 3\n",
      "4 4\n"
     ]
    }
   ],
   "source": [
    "def func_quad(lst):\n",
    "    for item_1 in lst:\n",
    "        for item_2 in lst:\n",
    "            print(item_1,item_2)\n",
    "            \n",
    "lst = [1,2,3,4]\n",
    "\n",
    "func_quad(lst)"
   ]
  },
  {
   "cell_type": "code",
   "execution_count": 25,
   "id": "fef97017",
   "metadata": {},
   "outputs": [
    {
     "name": "stdout",
     "output_type": "stream",
     "text": [
      "1\n",
      "2\n",
      "3\n",
      "4\n"
     ]
    }
   ],
   "source": [
    "def print_once(lst):\n",
    "    for val in lst:\n",
    "        print(val)\n",
    "        \n",
    "print_once(lst)"
   ]
  },
  {
   "cell_type": "code",
   "execution_count": 26,
   "id": "44aada7d",
   "metadata": {},
   "outputs": [
    {
     "name": "stdout",
     "output_type": "stream",
     "text": [
      "1\n",
      "2\n",
      "3\n",
      "4\n",
      "1\n",
      "2\n",
      "3\n",
      "4\n",
      "1\n",
      "2\n",
      "3\n",
      "4\n"
     ]
    }
   ],
   "source": [
    "def print_3(lst):\n",
    "    for val in lst:\n",
    "        print(val)\n",
    "        \n",
    "    for val in lst:\n",
    "        print(val)\n",
    "        \n",
    "    for val in lst:\n",
    "        print(val)\n",
    "        \n",
    "print_3(lst)\n",
    "        "
   ]
  },
  {
   "cell_type": "code",
   "execution_count": 40,
   "id": "f84e6318",
   "metadata": {},
   "outputs": [],
   "source": [
    "def comp(lst):\n",
    "    \n",
    "    print (lst[0])\n",
    "    \n",
    "    midpoint = len(lst)//2\n",
    "    \n",
    "    for val in lst[:midpoint]:\n",
    "            print(val)\n",
    "        \n",
    "    for x in range(10):\n",
    "        print('number')"
   ]
  },
  {
   "cell_type": "code",
   "execution_count": 35,
   "id": "5da3f842",
   "metadata": {},
   "outputs": [],
   "source": [
    "lst = [1,2,3,4,5,6,7,8,9,10]"
   ]
  },
  {
   "cell_type": "code",
   "execution_count": 41,
   "id": "8e62e2ef",
   "metadata": {},
   "outputs": [
    {
     "name": "stdout",
     "output_type": "stream",
     "text": [
      "1\n",
      "1\n",
      "2\n",
      "3\n",
      "4\n",
      "5\n",
      "number\n",
      "number\n",
      "number\n",
      "number\n",
      "number\n",
      "number\n",
      "number\n",
      "number\n",
      "number\n",
      "number\n"
     ]
    }
   ],
   "source": [
    "comp(lst)"
   ]
  },
  {
   "cell_type": "code",
   "execution_count": 42,
   "id": "63afccc7",
   "metadata": {},
   "outputs": [
    {
     "data": {
      "text/plain": [
       "[1, 2, 3, 4, 5, 6, 7, 8, 9, 10]"
      ]
     },
     "execution_count": 42,
     "metadata": {},
     "output_type": "execute_result"
    }
   ],
   "source": [
    "def matcher(lst,match):\n",
    "    for item in lst:\n",
    "        if item == match:\n",
    "            return True\n",
    "    return False\n",
    "\n",
    "lst"
   ]
  },
  {
   "cell_type": "code",
   "execution_count": 43,
   "id": "35400c00",
   "metadata": {},
   "outputs": [
    {
     "data": {
      "text/plain": [
       "True"
      ]
     },
     "execution_count": 43,
     "metadata": {},
     "output_type": "execute_result"
    }
   ],
   "source": [
    "matcher(lst,1)"
   ]
  },
  {
   "cell_type": "code",
   "execution_count": 44,
   "id": "60bdd90b",
   "metadata": {},
   "outputs": [
    {
     "data": {
      "text/plain": [
       "False"
      ]
     },
     "execution_count": 44,
     "metadata": {},
     "output_type": "execute_result"
    }
   ],
   "source": [
    "matcher(lst, 15)"
   ]
  },
  {
   "cell_type": "code",
   "execution_count": 47,
   "id": "dacbf300",
   "metadata": {},
   "outputs": [
    {
     "name": "stdout",
     "output_type": "stream",
     "text": [
      "Hello World\n",
      "Hello World\n",
      "Hello World\n",
      "Hello World\n",
      "Hello World\n",
      "Hello World\n",
      "Hello World\n",
      "Hello World\n",
      "Hello World\n",
      "Hello World\n"
     ]
    }
   ],
   "source": [
    "def printer(n=10):\n",
    "    for x in range(n):\n",
    "        print('Hello World')\n",
    "        \n",
    "printer()"
   ]
  },
  {
   "cell_type": "code",
   "execution_count": 48,
   "id": "8c2d2ad5",
   "metadata": {},
   "outputs": [
    {
     "name": "stdout",
     "output_type": "stream",
     "text": [
      "['new', 'new', 'new', 'new', 'new']\n"
     ]
    }
   ],
   "source": [
    "def create_list(n):\n",
    "    new_list = []\n",
    "    \n",
    "    for num in range(n):\n",
    "        new_list.append('new')\n",
    "        \n",
    "    return new_list\n",
    "print(create_list(5))"
   ]
  },
  {
   "cell_type": "code",
   "execution_count": null,
   "id": "35aa6b61",
   "metadata": {},
   "outputs": [],
   "source": []
  }
 ],
 "metadata": {
  "kernelspec": {
   "display_name": "Python 3 (ipykernel)",
   "language": "python",
   "name": "python3"
  },
  "language_info": {
   "codemirror_mode": {
    "name": "ipython",
    "version": 3
   },
   "file_extension": ".py",
   "mimetype": "text/x-python",
   "name": "python",
   "nbconvert_exporter": "python",
   "pygments_lexer": "ipython3",
   "version": "3.9.6"
  }
 },
 "nbformat": 4,
 "nbformat_minor": 5
}
